{
  "nbformat": 4,
  "nbformat_minor": 0,
  "metadata": {
    "colab": {
      "name": "LP2-A5.ipynb",
      "provenance": []
    },
    "kernelspec": {
      "name": "python3",
      "display_name": "Python 3"
    }
  },
  "cells": [
    {
      "cell_type": "code",
      "metadata": {
        "id": "giXHR7qyqKKQ"
      },
      "source": [
        "import matplotlib.pyplot as plt\n",
        "import pandas as pd\n",
        "import numpy as np\n",
        "from sklearn.model_selection import train_test_split\n",
        "from sklearn.linear_model import LogisticRegression\n",
        "from sklearn.metrics import accuracy_score\n",
        "from sklearn.naive_bayes import MultinomialNB, GaussianNB, BernoulliNB\n",
        "from sklearn.svm import LinearSVC\n",
        "from sklearn import svm\n",
        "from sklearn import tree\n",
        "from sklearn.ensemble import RandomForestClassifier\n",
        "from sklearn.neighbors import KNeighborsClassifier\n",
        "from sklearn.preprocessing import LabelEncoder,OneHotEncoder\n",
        "from sklearn.svm import SVC\n"
      ],
      "execution_count": null,
      "outputs": []
    },
    {
      "cell_type": "code",
      "metadata": {
        "id": "_u5oZjLxqQtF"
      },
      "source": [
        "df = pd.read_csv('train.csv')\n",
        "test_df = pd.read_csv('test.csv')"
      ],
      "execution_count": null,
      "outputs": []
    },
    {
      "cell_type": "code",
      "metadata": {
        "id": "UM1pRlAXqkdk",
        "outputId": "840c387e-2585-43cb-a607-21f6dc7ff32f",
        "colab": {
          "base_uri": "https://localhost:8080/",
          "height": 35
        }
      },
      "source": [
        "df.shape"
      ],
      "execution_count": null,
      "outputs": [
        {
          "output_type": "execute_result",
          "data": {
            "text/plain": [
              "(45000, 16)"
            ]
          },
          "metadata": {
            "tags": []
          },
          "execution_count": 22
        }
      ]
    },
    {
      "cell_type": "code",
      "metadata": {
        "id": "45jhJKDlqnEH",
        "outputId": "45773f99-8e3c-4cd0-8a4e-a5ad7adfba03",
        "colab": {
          "base_uri": "https://localhost:8080/",
          "height": 35
        }
      },
      "source": [
        "test_df.shape"
      ],
      "execution_count": null,
      "outputs": [
        {
          "output_type": "execute_result",
          "data": {
            "text/plain": [
              "(13107, 15)"
            ]
          },
          "metadata": {
            "tags": []
          },
          "execution_count": 23
        }
      ]
    },
    {
      "cell_type": "code",
      "metadata": {
        "id": "ZA7JPBRnqpQb"
      },
      "source": [
        "dt = df\n",
        "test_dt = test_df"
      ],
      "execution_count": null,
      "outputs": []
    },
    {
      "cell_type": "code",
      "metadata": {
        "id": "Lv_XCaHpqrTD"
      },
      "source": [
        "df['Elo'] = df['Elo'].fillna(df['Elo'].mode()[0])\n",
        "df['opp_Elo'] = df['opp_Elo'].fillna(df['opp_Elo'].mode()[0])\n",
        "df['win_equivalent'] = df['win_equivalent'].fillna(df['win_equivalent'].mode()[0])\n",
        "\n",
        "test_df['Elo'] = test_df['Elo'].fillna(test_df['Elo'].mode()[0])\n",
        "test_df['opp_Elo'] = test_df['opp_Elo'].fillna(test_df['opp_Elo'].mode()[0])\n",
        "test_df['win_equivalent'] = test_df['win_equivalent'].fillna(test_df['win_equivalent'].mode()[0])\n",
        "\n",
        "# df=df.fillna(df.mean())"
      ],
      "execution_count": null,
      "outputs": []
    },
    {
      "cell_type": "code",
      "metadata": {
        "id": "T8Cwq9AVqtFE"
      },
      "source": [
        "lb = LabelEncoder()\n",
        "df['team_id'] = lb.fit_transform(df['team_id'])\n",
        "df['opp_team_id'] = lb.fit_transform(df['opp_team_id'])\n",
        "\n",
        "test_df['team_id'] = lb.fit_transform(test_df['team_id'])\n",
        "test_df['opp_team_id'] = lb.fit_transform(test_df['opp_team_id'])\n"
      ],
      "execution_count": null,
      "outputs": []
    },
    {
      "cell_type": "code",
      "metadata": {
        "id": "od33GEuXquWx"
      },
      "source": [
        "new = df[\"date\"].str.split(\"/\", n = 2, expand = True) \n",
        "  \n",
        "df[\"date1\"]= new[0] \n",
        "df[\"month\"]= new[1] \n",
        "df[\"year\"]= new[2] \n",
        "\n",
        "# Dropping old Name columns \n",
        "df = df.drop(['date'], axis=1)\n",
        "\n",
        "\n",
        "\n",
        "\n",
        "new1 = test_df[\"date\"].str.split(\"/\", n = 2, expand = True) \n",
        "  \n",
        "test_df[\"date1\"]= new1[0] \n",
        "test_df[\"month\"]= new1[1] \n",
        "test_df[\"year\"]= new1[2] \n",
        "\n",
        "# Dropping old Name columns \n",
        "test_df = test_df.drop(['date'], axis=1)\n"
      ],
      "execution_count": null,
      "outputs": []
    },
    {
      "cell_type": "code",
      "metadata": {
        "id": "mKPj_53Wq2sZ"
      },
      "source": [
        "df['playoff'] = lb.fit_transform(df['playoff'])\n",
        "test_df['playoff'] = lb.fit_transform(test_df['playoff'])"
      ],
      "execution_count": null,
      "outputs": []
    },
    {
      "cell_type": "code",
      "metadata": {
        "id": "8F9eO5Isq38e"
      },
      "source": [
        "df['date1'] = df['date1'].astype(int)\n",
        "df['month'] = df['month'].astype(int)\n",
        "df['year'] = df['year'].astype(int)\n",
        "test_df['date1'] = test_df['date1'].astype(int)\n",
        "test_df['month'] = test_df['month'].astype(int)\n",
        "test_df['year'] = test_df['year'].astype(int)"
      ],
      "execution_count": null,
      "outputs": []
    },
    {
      "cell_type": "code",
      "metadata": {
        "id": "_FeI_XFjq5Ol",
        "outputId": "76418e40-4b40-4a6d-f777-7d624e070f43",
        "colab": {
          "base_uri": "https://localhost:8080/",
          "height": 222
        }
      },
      "source": [
        "df.head()"
      ],
      "execution_count": null,
      "outputs": [
        {
          "output_type": "execute_result",
          "data": {
            "text/html": [
              "<div>\n",
              "<style scoped>\n",
              "    .dataframe tbody tr th:only-of-type {\n",
              "        vertical-align: middle;\n",
              "    }\n",
              "\n",
              "    .dataframe tbody tr th {\n",
              "        vertical-align: top;\n",
              "    }\n",
              "\n",
              "    .dataframe thead th {\n",
              "        text-align: right;\n",
              "    }\n",
              "</style>\n",
              "<table border=\"1\" class=\"dataframe\">\n",
              "  <thead>\n",
              "    <tr style=\"text-align: right;\">\n",
              "      <th></th>\n",
              "      <th>Id</th>\n",
              "      <th>game_seq</th>\n",
              "      <th>season_end</th>\n",
              "      <th>season_game_seq</th>\n",
              "      <th>playoff</th>\n",
              "      <th>team_id</th>\n",
              "      <th>Elo</th>\n",
              "      <th>opp_team_id</th>\n",
              "      <th>opp_Elo</th>\n",
              "      <th>win_equivalent</th>\n",
              "      <th>bet_ratio</th>\n",
              "      <th>home_crowd</th>\n",
              "      <th>opp_crowd</th>\n",
              "      <th>total_crowd</th>\n",
              "      <th>game_result</th>\n",
              "      <th>date1</th>\n",
              "      <th>month</th>\n",
              "      <th>year</th>\n",
              "    </tr>\n",
              "  </thead>\n",
              "  <tbody>\n",
              "    <tr>\n",
              "      <th>0</th>\n",
              "      <td>1</td>\n",
              "      <td>39323</td>\n",
              "      <td>1997</td>\n",
              "      <td>2</td>\n",
              "      <td>0</td>\n",
              "      <td>18</td>\n",
              "      <td>1511.6364</td>\n",
              "      <td>2</td>\n",
              "      <td>1300.0000</td>\n",
              "      <td>18.998001</td>\n",
              "      <td>0.616437</td>\n",
              "      <td>6600</td>\n",
              "      <td>4800</td>\n",
              "      <td>11400</td>\n",
              "      <td>1</td>\n",
              "      <td>11</td>\n",
              "      <td>2</td>\n",
              "      <td>1996</td>\n",
              "    </tr>\n",
              "    <tr>\n",
              "      <th>1</th>\n",
              "      <td>2</td>\n",
              "      <td>59211</td>\n",
              "      <td>2012</td>\n",
              "      <td>87</td>\n",
              "      <td>1</td>\n",
              "      <td>15</td>\n",
              "      <td>1690.4612</td>\n",
              "      <td>37</td>\n",
              "      <td>1732.2164</td>\n",
              "      <td>59.721931</td>\n",
              "      <td>0.583044</td>\n",
              "      <td>5600</td>\n",
              "      <td>4300</td>\n",
              "      <td>9900</td>\n",
              "      <td>0</td>\n",
              "      <td>6</td>\n",
              "      <td>17</td>\n",
              "      <td>2012</td>\n",
              "    </tr>\n",
              "    <tr>\n",
              "      <th>2</th>\n",
              "      <td>3</td>\n",
              "      <td>60691</td>\n",
              "      <td>2014</td>\n",
              "      <td>12</td>\n",
              "      <td>0</td>\n",
              "      <td>10</td>\n",
              "      <td>1550.2258</td>\n",
              "      <td>3</td>\n",
              "      <td>1300.0000</td>\n",
              "      <td>18.998001</td>\n",
              "      <td>0.606468</td>\n",
              "      <td>8600</td>\n",
              "      <td>3800</td>\n",
              "      <td>12400</td>\n",
              "      <td>0</td>\n",
              "      <td>11</td>\n",
              "      <td>20</td>\n",
              "      <td>2013</td>\n",
              "    </tr>\n",
              "    <tr>\n",
              "      <th>3</th>\n",
              "      <td>4</td>\n",
              "      <td>31900</td>\n",
              "      <td>1990</td>\n",
              "      <td>69</td>\n",
              "      <td>0</td>\n",
              "      <td>4</td>\n",
              "      <td>1300.0000</td>\n",
              "      <td>9</td>\n",
              "      <td>1629.6985</td>\n",
              "      <td>39.305004</td>\n",
              "      <td>0.390694</td>\n",
              "      <td>7200</td>\n",
              "      <td>4000</td>\n",
              "      <td>11200</td>\n",
              "      <td>0</td>\n",
              "      <td>3</td>\n",
              "      <td>29</td>\n",
              "      <td>1990</td>\n",
              "    </tr>\n",
              "    <tr>\n",
              "      <th>4</th>\n",
              "      <td>5</td>\n",
              "      <td>48134</td>\n",
              "      <td>2004</td>\n",
              "      <td>30</td>\n",
              "      <td>0</td>\n",
              "      <td>20</td>\n",
              "      <td>1300.0000</td>\n",
              "      <td>4</td>\n",
              "      <td>1300.0000</td>\n",
              "      <td>28.311192</td>\n",
              "      <td>0.492179</td>\n",
              "      <td>8600</td>\n",
              "      <td>4900</td>\n",
              "      <td>13500</td>\n",
              "      <td>0</td>\n",
              "      <td>1</td>\n",
              "      <td>2</td>\n",
              "      <td>2004</td>\n",
              "    </tr>\n",
              "  </tbody>\n",
              "</table>\n",
              "</div>"
            ],
            "text/plain": [
              "   Id  game_seq  season_end  season_game_seq  ...  game_result  date1  month  year\n",
              "0   1     39323        1997                2  ...            1     11      2  1996\n",
              "1   2     59211        2012               87  ...            0      6     17  2012\n",
              "2   3     60691        2014               12  ...            0     11     20  2013\n",
              "3   4     31900        1990               69  ...            0      3     29  1990\n",
              "4   5     48134        2004               30  ...            0      1      2  2004\n",
              "\n",
              "[5 rows x 18 columns]"
            ]
          },
          "metadata": {
            "tags": []
          },
          "execution_count": 30
        }
      ]
    },
    {
      "cell_type": "code",
      "metadata": {
        "id": "xfpbBFRqq6m9",
        "outputId": "547265bb-99fc-466f-a8ea-75ddd5e3d0f3",
        "colab": {
          "base_uri": "https://localhost:8080/",
          "height": 222
        }
      },
      "source": [
        "test_df.head()"
      ],
      "execution_count": null,
      "outputs": [
        {
          "output_type": "execute_result",
          "data": {
            "text/html": [
              "<div>\n",
              "<style scoped>\n",
              "    .dataframe tbody tr th:only-of-type {\n",
              "        vertical-align: middle;\n",
              "    }\n",
              "\n",
              "    .dataframe tbody tr th {\n",
              "        vertical-align: top;\n",
              "    }\n",
              "\n",
              "    .dataframe thead th {\n",
              "        text-align: right;\n",
              "    }\n",
              "</style>\n",
              "<table border=\"1\" class=\"dataframe\">\n",
              "  <thead>\n",
              "    <tr style=\"text-align: right;\">\n",
              "      <th></th>\n",
              "      <th>Id</th>\n",
              "      <th>game_seq</th>\n",
              "      <th>season_end</th>\n",
              "      <th>season_game_seq</th>\n",
              "      <th>playoff</th>\n",
              "      <th>team_id</th>\n",
              "      <th>Elo</th>\n",
              "      <th>opp_team_id</th>\n",
              "      <th>opp_Elo</th>\n",
              "      <th>win_equivalent</th>\n",
              "      <th>bet_ratio</th>\n",
              "      <th>home_crowd</th>\n",
              "      <th>opp_crowd</th>\n",
              "      <th>total_crowd</th>\n",
              "      <th>date1</th>\n",
              "      <th>month</th>\n",
              "      <th>year</th>\n",
              "    </tr>\n",
              "  </thead>\n",
              "  <tbody>\n",
              "    <tr>\n",
              "      <th>0</th>\n",
              "      <td>45001</td>\n",
              "      <td>50929</td>\n",
              "      <td>2006</td>\n",
              "      <td>45</td>\n",
              "      <td>0</td>\n",
              "      <td>6</td>\n",
              "      <td>1452.0272</td>\n",
              "      <td>4</td>\n",
              "      <td>1467.3956</td>\n",
              "      <td>36.577610</td>\n",
              "      <td>0.619442</td>\n",
              "      <td>8700</td>\n",
              "      <td>3300</td>\n",
              "      <td>12000</td>\n",
              "      <td>2</td>\n",
              "      <td>1</td>\n",
              "      <td>2006</td>\n",
              "    </tr>\n",
              "    <tr>\n",
              "      <th>1</th>\n",
              "      <td>45002</td>\n",
              "      <td>62745</td>\n",
              "      <td>2015</td>\n",
              "      <td>60</td>\n",
              "      <td>0</td>\n",
              "      <td>7</td>\n",
              "      <td>1498.2162</td>\n",
              "      <td>1</td>\n",
              "      <td>1283.8668</td>\n",
              "      <td>40.762897</td>\n",
              "      <td>0.859306</td>\n",
              "      <td>7000</td>\n",
              "      <td>2600</td>\n",
              "      <td>9600</td>\n",
              "      <td>3</td>\n",
              "      <td>4</td>\n",
              "      <td>2015</td>\n",
              "    </tr>\n",
              "    <tr>\n",
              "      <th>2</th>\n",
              "      <td>45003</td>\n",
              "      <td>53291</td>\n",
              "      <td>2008</td>\n",
              "      <td>28</td>\n",
              "      <td>0</td>\n",
              "      <td>59</td>\n",
              "      <td>1495.3258</td>\n",
              "      <td>6</td>\n",
              "      <td>1392.2981</td>\n",
              "      <td>40.791542</td>\n",
              "      <td>0.762914</td>\n",
              "      <td>3800</td>\n",
              "      <td>1500</td>\n",
              "      <td>5300</td>\n",
              "      <td>12</td>\n",
              "      <td>25</td>\n",
              "      <td>2007</td>\n",
              "    </tr>\n",
              "    <tr>\n",
              "      <th>3</th>\n",
              "      <td>45004</td>\n",
              "      <td>24991</td>\n",
              "      <td>1984</td>\n",
              "      <td>18</td>\n",
              "      <td>0</td>\n",
              "      <td>58</td>\n",
              "      <td>1602.1180</td>\n",
              "      <td>11</td>\n",
              "      <td>1528.8450</td>\n",
              "      <td>52.006989</td>\n",
              "      <td>0.730555</td>\n",
              "      <td>7000</td>\n",
              "      <td>300</td>\n",
              "      <td>7300</td>\n",
              "      <td>12</td>\n",
              "      <td>2</td>\n",
              "      <td>1983</td>\n",
              "    </tr>\n",
              "    <tr>\n",
              "      <th>4</th>\n",
              "      <td>45005</td>\n",
              "      <td>18807</td>\n",
              "      <td>1977</td>\n",
              "      <td>73</td>\n",
              "      <td>0</td>\n",
              "      <td>23</td>\n",
              "      <td>1481.2228</td>\n",
              "      <td>4</td>\n",
              "      <td>1571.5261</td>\n",
              "      <td>29.636082</td>\n",
              "      <td>0.513951</td>\n",
              "      <td>4900</td>\n",
              "      <td>1000</td>\n",
              "      <td>5900</td>\n",
              "      <td>3</td>\n",
              "      <td>25</td>\n",
              "      <td>1977</td>\n",
              "    </tr>\n",
              "  </tbody>\n",
              "</table>\n",
              "</div>"
            ],
            "text/plain": [
              "      Id  game_seq  season_end  ...  date1  month  year\n",
              "0  45001     50929        2006  ...      2      1  2006\n",
              "1  45002     62745        2015  ...      3      4  2015\n",
              "2  45003     53291        2008  ...     12     25  2007\n",
              "3  45004     24991        1984  ...     12      2  1983\n",
              "4  45005     18807        1977  ...      3     25  1977\n",
              "\n",
              "[5 rows x 17 columns]"
            ]
          },
          "metadata": {
            "tags": []
          },
          "execution_count": 31
        }
      ]
    },
    {
      "cell_type": "code",
      "metadata": {
        "id": "1hVwjbtsq8z5",
        "outputId": "598755d9-4d2f-4297-adff-fab0e9cfaa9b",
        "colab": {
          "base_uri": "https://localhost:8080/",
          "height": 451
        }
      },
      "source": [
        "df.info()"
      ],
      "execution_count": null,
      "outputs": [
        {
          "output_type": "stream",
          "text": [
            "<class 'pandas.core.frame.DataFrame'>\n",
            "RangeIndex: 45000 entries, 0 to 44999\n",
            "Data columns (total 18 columns):\n",
            " #   Column           Non-Null Count  Dtype  \n",
            "---  ------           --------------  -----  \n",
            " 0   Id               45000 non-null  int64  \n",
            " 1   game_seq         45000 non-null  int64  \n",
            " 2   season_end       45000 non-null  int64  \n",
            " 3   season_game_seq  45000 non-null  int64  \n",
            " 4   playoff          45000 non-null  int64  \n",
            " 5   team_id          45000 non-null  int64  \n",
            " 6   Elo              45000 non-null  float64\n",
            " 7   opp_team_id      45000 non-null  int64  \n",
            " 8   opp_Elo          45000 non-null  float64\n",
            " 9   win_equivalent   45000 non-null  float64\n",
            " 10  bet_ratio        45000 non-null  float64\n",
            " 11  home_crowd       45000 non-null  int64  \n",
            " 12  opp_crowd        45000 non-null  int64  \n",
            " 13  total_crowd      45000 non-null  int64  \n",
            " 14  game_result      45000 non-null  int64  \n",
            " 15  date1            45000 non-null  int64  \n",
            " 16  month            45000 non-null  int64  \n",
            " 17  year             45000 non-null  int64  \n",
            "dtypes: float64(4), int64(14)\n",
            "memory usage: 6.2 MB\n"
          ],
          "name": "stdout"
        }
      ]
    },
    {
      "cell_type": "code",
      "metadata": {
        "id": "84P0x2IJq90f",
        "outputId": "f83efe9d-4a43-407f-96fb-35edfccdbbfe",
        "colab": {
          "base_uri": "https://localhost:8080/",
          "height": 433
        }
      },
      "source": [
        "test_df.info()\n"
      ],
      "execution_count": null,
      "outputs": [
        {
          "output_type": "stream",
          "text": [
            "<class 'pandas.core.frame.DataFrame'>\n",
            "RangeIndex: 13107 entries, 0 to 13106\n",
            "Data columns (total 17 columns):\n",
            " #   Column           Non-Null Count  Dtype  \n",
            "---  ------           --------------  -----  \n",
            " 0   Id               13107 non-null  int64  \n",
            " 1   game_seq         13107 non-null  int64  \n",
            " 2   season_end       13107 non-null  int64  \n",
            " 3   season_game_seq  13107 non-null  int64  \n",
            " 4   playoff          13107 non-null  int64  \n",
            " 5   team_id          13107 non-null  int64  \n",
            " 6   Elo              13107 non-null  float64\n",
            " 7   opp_team_id      13107 non-null  int64  \n",
            " 8   opp_Elo          13107 non-null  float64\n",
            " 9   win_equivalent   13107 non-null  float64\n",
            " 10  bet_ratio        13107 non-null  float64\n",
            " 11  home_crowd       13107 non-null  int64  \n",
            " 12  opp_crowd        13107 non-null  int64  \n",
            " 13  total_crowd      13107 non-null  int64  \n",
            " 14  date1            13107 non-null  int64  \n",
            " 15  month            13107 non-null  int64  \n",
            " 16  year             13107 non-null  int64  \n",
            "dtypes: float64(4), int64(13)\n",
            "memory usage: 1.7 MB\n"
          ],
          "name": "stdout"
        }
      ]
    },
    {
      "cell_type": "code",
      "metadata": {
        "id": "h4_zJqJIq_Fi",
        "outputId": "56d273a4-b928-48a4-ecef-b4e8c66a0f91",
        "colab": {
          "base_uri": "https://localhost:8080/",
          "height": 35
        }
      },
      "source": [
        "df.shape"
      ],
      "execution_count": null,
      "outputs": [
        {
          "output_type": "execute_result",
          "data": {
            "text/plain": [
              "(45000, 18)"
            ]
          },
          "metadata": {
            "tags": []
          },
          "execution_count": 34
        }
      ]
    },
    {
      "cell_type": "code",
      "metadata": {
        "id": "tLTc-FSsrAQt",
        "outputId": "91c568b4-bdd4-436e-a38b-4fe1a791b431",
        "colab": {
          "base_uri": "https://localhost:8080/",
          "height": 35
        }
      },
      "source": [
        "test_df.shape\n"
      ],
      "execution_count": null,
      "outputs": [
        {
          "output_type": "execute_result",
          "data": {
            "text/plain": [
              "(13107, 17)"
            ]
          },
          "metadata": {
            "tags": []
          },
          "execution_count": 35
        }
      ]
    },
    {
      "cell_type": "code",
      "metadata": {
        "id": "vJHViqvxrB2F"
      },
      "source": [
        "df.drop('Id', axis=1, inplace=True)\n",
        "df.drop('playoff', axis=1, inplace=True)\n",
        "# df.drop('season_end', axis=1, inplace=True)\n",
        "df.drop('date1', axis=1, inplace=True)\n",
        "# df.drop('year', axis=1, inplace=True)\n",
        "df.drop('team_id', axis=1, inplace=True)\n",
        "df.drop('opp_team_id', axis=1, inplace=True)\n",
        "df.drop('season_end', axis=1, inplace=True)\n",
        "df.drop('year', axis=1, inplace=True)\n",
        "\n",
        "\n",
        "test_df.drop('Id', axis=1, inplace=True)\n",
        "test_df.drop('playoff', axis=1, inplace=True)\n",
        "# test_df.drop('season_end', axis=1, inplace=True)\n",
        "test_df.drop('date1', axis=1, inplace=True)\n",
        "# test_df.drop('year', axis=1, inplace=True)\n",
        "test_df.drop('team_id', axis=1, inplace=True)\n",
        "test_df.drop('opp_team_id', axis=1, inplace=True)\n",
        "test_df.drop('season_end', axis=1, inplace=True)\n",
        "test_df.drop('year', axis=1, inplace=True)"
      ],
      "execution_count": null,
      "outputs": []
    },
    {
      "cell_type": "code",
      "metadata": {
        "id": "gHBGFuEvrDA2",
        "outputId": "f35bb208-257c-45c7-ef7e-ea8ac59b676a",
        "colab": {
          "base_uri": "https://localhost:8080/",
          "height": 35
        }
      },
      "source": [
        "df.shape"
      ],
      "execution_count": null,
      "outputs": [
        {
          "output_type": "execute_result",
          "data": {
            "text/plain": [
              "(45000, 11)"
            ]
          },
          "metadata": {
            "tags": []
          },
          "execution_count": 37
        }
      ]
    },
    {
      "cell_type": "code",
      "metadata": {
        "id": "hYQ3Df_erEsP",
        "outputId": "cd92d778-db43-43d5-a924-239c3296f2f2",
        "colab": {
          "base_uri": "https://localhost:8080/",
          "height": 35
        }
      },
      "source": [
        "test_df.shape"
      ],
      "execution_count": null,
      "outputs": [
        {
          "output_type": "execute_result",
          "data": {
            "text/plain": [
              "(13107, 10)"
            ]
          },
          "metadata": {
            "tags": []
          },
          "execution_count": 38
        }
      ]
    },
    {
      "cell_type": "code",
      "metadata": {
        "id": "OQjvVi-1rFqw"
      },
      "source": [
        "y = df['game_result']\n",
        "df.drop('game_result', axis=1, inplace=True)\n",
        "x = df"
      ],
      "execution_count": null,
      "outputs": []
    },
    {
      "cell_type": "code",
      "metadata": {
        "id": "Tbh33xG6rK3h",
        "outputId": "feb23f19-a887-48a5-9350-03945a027581",
        "colab": {
          "base_uri": "https://localhost:8080/",
          "height": 35
        }
      },
      "source": [
        "x.shape"
      ],
      "execution_count": null,
      "outputs": [
        {
          "output_type": "execute_result",
          "data": {
            "text/plain": [
              "(45000, 10)"
            ]
          },
          "metadata": {
            "tags": []
          },
          "execution_count": 40
        }
      ]
    },
    {
      "cell_type": "code",
      "metadata": {
        "id": "PBxWMaYdrL4l",
        "outputId": "9021320c-da78-4480-a263-56932b6d64d5",
        "colab": {
          "base_uri": "https://localhost:8080/",
          "height": 35
        }
      },
      "source": [
        "y.shape"
      ],
      "execution_count": null,
      "outputs": [
        {
          "output_type": "execute_result",
          "data": {
            "text/plain": [
              "(45000,)"
            ]
          },
          "metadata": {
            "tags": []
          },
          "execution_count": 41
        }
      ]
    },
    {
      "cell_type": "code",
      "metadata": {
        "id": "lkVSTKBsrNb4"
      },
      "source": [
        "from sklearn.model_selection import train_test_split\n",
        "x_train, x_val, y_train, y_val = train_test_split(x,y, test_size = 0.1, random_state = 0)"
      ],
      "execution_count": null,
      "outputs": []
    },
    {
      "cell_type": "code",
      "metadata": {
        "id": "wPmHJwZErX1Q",
        "outputId": "f64986cb-b159-4b92-c69c-d8bc2d57c7d6",
        "colab": {
          "base_uri": "https://localhost:8080/",
          "height": 35
        }
      },
      "source": [
        "# Random Forest\n",
        "from sklearn.ensemble import RandomForestClassifier\n",
        "\n",
        "randomforest = RandomForestClassifier(n_estimators=600)\n",
        "randomforest.fit(x_train, y_train)\n",
        "y_pred = randomforest.predict(x_val)\n",
        "acc_randomforest = round(accuracy_score(y_pred, y_val) * 100, 2)\n",
        "print(acc_randomforest)"
      ],
      "execution_count": null,
      "outputs": [
        {
          "output_type": "stream",
          "text": [
            "76.98\n"
          ],
          "name": "stdout"
        }
      ]
    },
    {
      "cell_type": "code",
      "metadata": {
        "id": "dAtaNtjWvmsB",
        "outputId": "3be2570d-9bbe-4912-bd89-4ae2bb634eb8",
        "colab": {
          "base_uri": "https://localhost:8080/",
          "height": 52
        }
      },
      "source": [
        "from sklearn import metrics\n",
        "\n",
        "print(metrics.confusion_matrix(y_val, y_pred))"
      ],
      "execution_count": null,
      "outputs": [
        {
          "output_type": "stream",
          "text": [
            "[[2435  340]\n",
            " [ 696 1029]]\n"
          ],
          "name": "stdout"
        }
      ]
    },
    {
      "cell_type": "code",
      "metadata": {
        "id": "z8CTBt1wrY1Q",
        "outputId": "013873bf-fc45-4e71-b781-597692242e38",
        "colab": {
          "base_uri": "https://localhost:8080/",
          "height": 52
        }
      },
      "source": [
        "# importances = randomforest.feature_importances_\n",
        "print(randomforest.feature_importances_)"
      ],
      "execution_count": null,
      "outputs": [
        {
          "output_type": "stream",
          "text": [
            "[0.09876209 0.07541428 0.1318544  0.09983012 0.1484929  0.17806093\n",
            " 0.06738871 0.06691188 0.07037885 0.06290584]\n"
          ],
          "name": "stdout"
        }
      ]
    },
    {
      "cell_type": "code",
      "metadata": {
        "id": "F6eLRFYoraD-",
        "outputId": "6a3d3c63-8c41-42b8-ab84-aa28eee4ec22",
        "colab": {
          "base_uri": "https://localhost:8080/",
          "height": 35
        }
      },
      "source": [
        "# Gaussian Naive Bayes\n",
        "from sklearn.naive_bayes import GaussianNB\n",
        "from sklearn.metrics import accuracy_score\n",
        "\n",
        "gaussian = GaussianNB()\n",
        "gaussian.fit(x_train, y_train)\n",
        "y_pred = gaussian.predict(x_val)\n",
        "acc_gaussian = round(accuracy_score(y_pred, y_val) * 100, 2)\n",
        "print(acc_gaussian)\n"
      ],
      "execution_count": null,
      "outputs": [
        {
          "output_type": "stream",
          "text": [
            "66.56\n"
          ],
          "name": "stdout"
        }
      ]
    },
    {
      "cell_type": "code",
      "metadata": {
        "id": "4DlzxtFEwgOZ",
        "outputId": "aecf8b5c-79bd-486b-c596-b2e205630c5c",
        "colab": {
          "base_uri": "https://localhost:8080/",
          "height": 52
        }
      },
      "source": [
        "print(metrics.confusion_matrix(y_val, y_pred))"
      ],
      "execution_count": null,
      "outputs": [
        {
          "output_type": "stream",
          "text": [
            "[[2258  517]\n",
            " [ 988  737]]\n"
          ],
          "name": "stdout"
        }
      ]
    },
    {
      "cell_type": "code",
      "metadata": {
        "id": "UKQgocF9rckP",
        "outputId": "fc9c0db3-c491-4b78-82f6-64d1dbe8af9f",
        "colab": {
          "base_uri": "https://localhost:8080/",
          "height": 35
        }
      },
      "source": [
        "# Logistic Regression\n",
        "from sklearn.linear_model import LogisticRegression\n",
        "\n",
        "logreg = LogisticRegression()\n",
        "logreg.fit(x_train, y_train)\n",
        "y_pred = logreg.predict(x_val)\n",
        "acc_logreg = round(accuracy_score(y_pred, y_val) * 100, 2)\n",
        "print(acc_logreg)"
      ],
      "execution_count": null,
      "outputs": [
        {
          "output_type": "stream",
          "text": [
            "65.47\n"
          ],
          "name": "stdout"
        }
      ]
    },
    {
      "cell_type": "code",
      "metadata": {
        "id": "HyGWWh-swi8K",
        "outputId": "0f7130f3-0b8a-4cac-e675-0f3093be5346",
        "colab": {
          "base_uri": "https://localhost:8080/",
          "height": 52
        }
      },
      "source": [
        "print(metrics.confusion_matrix(y_val, y_pred))"
      ],
      "execution_count": null,
      "outputs": [
        {
          "output_type": "stream",
          "text": [
            "[[2358  417]\n",
            " [1137  588]]\n"
          ],
          "name": "stdout"
        }
      ]
    },
    {
      "cell_type": "code",
      "metadata": {
        "id": "-MSF0m3WreXe",
        "outputId": "689dd2f4-660b-4ae6-b1ed-4e60b44e5801",
        "colab": {
          "base_uri": "https://localhost:8080/",
          "height": 35
        }
      },
      "source": [
        "# Support Vector Machines\n",
        "from sklearn.svm import SVC\n",
        "\n",
        "svc = SVC()\n",
        "svc.fit(x_train, y_train)\n",
        "y_pred = svc.predict(x_val)\n",
        "acc_svc = round(accuracy_score(y_pred, y_val) * 100, 2)\n",
        "print(acc_svc)"
      ],
      "execution_count": null,
      "outputs": [
        {
          "output_type": "stream",
          "text": [
            "61.67\n"
          ],
          "name": "stdout"
        }
      ]
    },
    {
      "cell_type": "code",
      "metadata": {
        "id": "6Os4wgo6wkYW",
        "outputId": "f2042992-a70b-451a-e908-560869f5e023",
        "colab": {
          "base_uri": "https://localhost:8080/",
          "height": 52
        }
      },
      "source": [
        "print(metrics.confusion_matrix(y_val, y_pred))"
      ],
      "execution_count": null,
      "outputs": [
        {
          "output_type": "stream",
          "text": [
            "[[2775    0]\n",
            " [1725    0]]\n"
          ],
          "name": "stdout"
        }
      ]
    },
    {
      "cell_type": "code",
      "metadata": {
        "id": "ndlTUHxirh_n",
        "outputId": "f799f575-e0e6-4f0d-ae42-54fbfc0390e5",
        "colab": {
          "base_uri": "https://localhost:8080/",
          "height": 89
        }
      },
      "source": [
        "# Linear SVC\n",
        "from sklearn.svm import LinearSVC\n",
        "\n",
        "linear_svc = LinearSVC()\n",
        "linear_svc.fit(x_train, y_train)\n",
        "y_pred = linear_svc.predict(x_val)\n",
        "acc_linear_svc = round(accuracy_score(y_pred, y_val) * 100, 2)\n",
        "print(acc_linear_svc)"
      ],
      "execution_count": null,
      "outputs": [
        {
          "output_type": "stream",
          "text": [
            "61.89\n"
          ],
          "name": "stdout"
        },
        {
          "output_type": "stream",
          "text": [
            "/usr/local/lib/python3.6/dist-packages/sklearn/svm/_base.py:947: ConvergenceWarning: Liblinear failed to converge, increase the number of iterations.\n",
            "  \"the number of iterations.\", ConvergenceWarning)\n"
          ],
          "name": "stderr"
        }
      ]
    },
    {
      "cell_type": "code",
      "metadata": {
        "id": "npkGBjXzwmfW",
        "outputId": "17976ec6-17d1-4dfe-e229-96d7ed598dd1",
        "colab": {
          "base_uri": "https://localhost:8080/",
          "height": 52
        }
      },
      "source": [
        "print(metrics.confusion_matrix(y_val, y_pred))"
      ],
      "execution_count": null,
      "outputs": [
        {
          "output_type": "stream",
          "text": [
            "[[2771    4]\n",
            " [1711   14]]\n"
          ],
          "name": "stdout"
        }
      ]
    },
    {
      "cell_type": "code",
      "metadata": {
        "id": "s-WJMUlbrlIE",
        "outputId": "f66630eb-8bcd-4e54-9da4-70bbd0df8059",
        "colab": {
          "base_uri": "https://localhost:8080/",
          "height": 124
        }
      },
      "source": [
        "#Decision Tree\n",
        "from sklearn.tree import DecisionTreeClassifier\n",
        "\n",
        "decisiontree = DecisionTreeClassifier(class_weight=None, max_depth=32,\n",
        " max_features=None, max_leaf_nodes=None,\n",
        " min_impurity_split=1e-07, min_samples_leaf=5,\n",
        " min_samples_split=2, min_weight_fraction_leaf=0.0,\n",
        " presort=False, random_state=None)\n",
        "decisiontree.fit(x_train, y_train)\n",
        "y_pred = decisiontree.predict(x_val)\n",
        "acc_decisiontree = round(accuracy_score(y_pred, y_val) * 100, 2)\n",
        "print(acc_decisiontree)"
      ],
      "execution_count": null,
      "outputs": [
        {
          "output_type": "stream",
          "text": [
            "/usr/local/lib/python3.6/dist-packages/sklearn/tree/_classes.py:301: FutureWarning: The min_impurity_split parameter is deprecated. Its default value will change from 1e-7 to 0 in version 0.23, and it will be removed in 0.25. Use the min_impurity_decrease parameter instead.\n",
            "  FutureWarning)\n",
            "/usr/local/lib/python3.6/dist-packages/sklearn/tree/_classes.py:319: FutureWarning: The parameter 'presort' is deprecated and has no effect. It will be removed in v0.24. You can suppress this warning by not passing any value to the 'presort' parameter.\n",
            "  FutureWarning)\n"
          ],
          "name": "stderr"
        },
        {
          "output_type": "stream",
          "text": [
            "73.31\n"
          ],
          "name": "stdout"
        }
      ]
    },
    {
      "cell_type": "code",
      "metadata": {
        "id": "xLPQUsvIwrsc",
        "outputId": "50838696-e266-4b0e-ebc1-982218bc8bed",
        "colab": {
          "base_uri": "https://localhost:8080/",
          "height": 52
        }
      },
      "source": [
        "print(metrics.confusion_matrix(y_val, y_pred))"
      ],
      "execution_count": null,
      "outputs": [
        {
          "output_type": "stream",
          "text": [
            "[[2230  545]\n",
            " [ 656 1069]]\n"
          ],
          "name": "stdout"
        }
      ]
    },
    {
      "cell_type": "code",
      "metadata": {
        "id": "xxZXtckzrmlF",
        "outputId": "f307d803-a097-4b45-dc77-16849afb29f2",
        "colab": {
          "base_uri": "https://localhost:8080/",
          "height": 35
        }
      },
      "source": [
        "# Gradient Boosting Classifier\n",
        "from sklearn.ensemble import GradientBoostingClassifier\n",
        "\n",
        "gbk = GradientBoostingClassifier(n_estimators=2000)\n",
        "gbk.fit(x_train, y_train)\n",
        "y_pred = gbk.predict(x_val)\n",
        "acc_gbk = round(accuracy_score(y_pred, y_val) * 100, 2)\n",
        "print(acc_gbk)"
      ],
      "execution_count": null,
      "outputs": [
        {
          "output_type": "stream",
          "text": [
            "83.62\n"
          ],
          "name": "stdout"
        }
      ]
    },
    {
      "cell_type": "code",
      "metadata": {
        "id": "fOpkoiVMwsrc",
        "outputId": "41338512-7c52-416b-c3ae-4fa511f7160b",
        "colab": {
          "base_uri": "https://localhost:8080/",
          "height": 52
        }
      },
      "source": [
        "print(metrics.confusion_matrix(y_val, y_pred))"
      ],
      "execution_count": null,
      "outputs": [
        {
          "output_type": "stream",
          "text": [
            "[[2519  256]\n",
            " [ 481 1244]]\n"
          ],
          "name": "stdout"
        }
      ]
    },
    {
      "cell_type": "code",
      "metadata": {
        "id": "7Z9XphMIroUo",
        "outputId": "acfe17d2-f291-40dd-d56f-8d5235e367dd",
        "colab": {
          "base_uri": "https://localhost:8080/",
          "height": 233
        }
      },
      "source": [
        "models = pd.DataFrame({\n",
        "    'Model': ['Support Vector Machines',  \n",
        "              'Random Forest', 'Naive Bayes', 'Linear SVC',\n",
        "              'Decision Tree', 'Gradient Boosting Classifier'],\n",
        "    'Score': [acc_svc,  \n",
        "              acc_randomforest, acc_gaussian, acc_linear_svc, acc_decisiontree,\n",
        "               acc_gbk]})\n",
        "models.sort_values(by='Score', ascending=False)"
      ],
      "execution_count": null,
      "outputs": [
        {
          "output_type": "execute_result",
          "data": {
            "text/html": [
              "<div>\n",
              "<style scoped>\n",
              "    .dataframe tbody tr th:only-of-type {\n",
              "        vertical-align: middle;\n",
              "    }\n",
              "\n",
              "    .dataframe tbody tr th {\n",
              "        vertical-align: top;\n",
              "    }\n",
              "\n",
              "    .dataframe thead th {\n",
              "        text-align: right;\n",
              "    }\n",
              "</style>\n",
              "<table border=\"1\" class=\"dataframe\">\n",
              "  <thead>\n",
              "    <tr style=\"text-align: right;\">\n",
              "      <th></th>\n",
              "      <th>Model</th>\n",
              "      <th>Score</th>\n",
              "    </tr>\n",
              "  </thead>\n",
              "  <tbody>\n",
              "    <tr>\n",
              "      <th>5</th>\n",
              "      <td>Gradient Boosting Classifier</td>\n",
              "      <td>83.60</td>\n",
              "    </tr>\n",
              "    <tr>\n",
              "      <th>1</th>\n",
              "      <td>Random Forest</td>\n",
              "      <td>76.98</td>\n",
              "    </tr>\n",
              "    <tr>\n",
              "      <th>4</th>\n",
              "      <td>Decision Tree</td>\n",
              "      <td>72.96</td>\n",
              "    </tr>\n",
              "    <tr>\n",
              "      <th>2</th>\n",
              "      <td>Naive Bayes</td>\n",
              "      <td>66.56</td>\n",
              "    </tr>\n",
              "    <tr>\n",
              "      <th>0</th>\n",
              "      <td>Support Vector Machines</td>\n",
              "      <td>61.67</td>\n",
              "    </tr>\n",
              "    <tr>\n",
              "      <th>3</th>\n",
              "      <td>Linear SVC</td>\n",
              "      <td>43.36</td>\n",
              "    </tr>\n",
              "  </tbody>\n",
              "</table>\n",
              "</div>"
            ],
            "text/plain": [
              "                          Model  Score\n",
              "5  Gradient Boosting Classifier  83.60\n",
              "1                 Random Forest  76.98\n",
              "4                 Decision Tree  72.96\n",
              "2                   Naive Bayes  66.56\n",
              "0       Support Vector Machines  61.67\n",
              "3                    Linear SVC  43.36"
            ]
          },
          "metadata": {
            "tags": []
          },
          "execution_count": 55
        }
      ]
    },
    {
      "cell_type": "code",
      "metadata": {
        "id": "8wfMTnZ8r4sa"
      },
      "source": [
        ""
      ],
      "execution_count": null,
      "outputs": []
    }
  ]
}